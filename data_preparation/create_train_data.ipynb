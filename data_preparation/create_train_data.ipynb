{
 "cells": [
  {
   "cell_type": "markdown",
   "id": "dc7c1650-5a9e-4c45-9141-013f0074ac86",
   "metadata": {},
   "source": [
    "# Obtain the Image Paths and create data folds"
   ]
  },
  {
   "cell_type": "markdown",
   "id": "6684fcaf-89f3-4fb0-81de-639533a8d884",
   "metadata": {},
   "source": [
    "## Preliminaries"
   ]
  },
  {
   "cell_type": "code",
   "execution_count": null,
   "id": "83de328b-f376-4796-aaad-f316134bdea5",
   "metadata": {},
   "outputs": [],
   "source": [
    "import pandas as pd \n",
    "import numpy as np"
   ]
  }
 ],
 "metadata": {
  "kernelspec": {
   "display_name": "Python 3 (ipykernel)",
   "language": "python",
   "name": "python3"
  },
  "language_info": {
   "codemirror_mode": {
    "name": "ipython",
    "version": 3
   },
   "file_extension": ".py",
   "mimetype": "text/x-python",
   "name": "python",
   "nbconvert_exporter": "python",
   "pygments_lexer": "ipython3",
   "version": "3.8.10"
  }
 },
 "nbformat": 4,
 "nbformat_minor": 5
}
