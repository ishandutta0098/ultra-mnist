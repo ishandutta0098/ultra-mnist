{
 "cells": [
  {
   "cell_type": "markdown",
   "id": "dc7c1650-5a9e-4c45-9141-013f0074ac86",
   "metadata": {},
   "source": [
    "# Obtain the Image Paths and create data folds"
   ]
  },
  {
   "cell_type": "markdown",
   "id": "6684fcaf-89f3-4fb0-81de-639533a8d884",
   "metadata": {},
   "source": [
    "## Preliminaries"
   ]
  },
  {
   "cell_type": "code",
   "execution_count": 1,
   "id": "ecfcb649-8c00-4511-967b-2fdd4b8536a8",
   "metadata": {},
   "outputs": [
    {
     "name": "stdout",
     "output_type": "stream",
     "text": [
      "d:\\Hackathons\\Kaggle\\ultra-mnist\n"
     ]
    }
   ],
   "source": [
    "%cd .."
   ]
  },
  {
   "cell_type": "code",
   "execution_count": 2,
   "id": "83de328b-f376-4796-aaad-f316134bdea5",
   "metadata": {},
   "outputs": [],
   "source": [
    "import pandas as pd \n",
    "import numpy as np\n",
    "\n",
    "import utilities.utils as utils"
   ]
  },
  {
   "cell_type": "code",
   "execution_count": 3,
   "id": "def44168-af61-4de6-9f6e-a9bdb999c3b7",
   "metadata": {},
   "outputs": [],
   "source": [
    "cfg = utils.load_config(\"project_config.yaml\")"
   ]
  },
  {
   "cell_type": "markdown",
   "id": "91ccceb4-81a9-4516-816d-4aa427981cf7",
   "metadata": {},
   "source": [
    "## Load data"
   ]
  },
  {
   "cell_type": "code",
   "execution_count": 4,
   "id": "e9f998de-c2a9-4fbb-ad9a-31253684a2bb",
   "metadata": {},
   "outputs": [],
   "source": [
    "df_train = pd.read_csv(cfg['TRAIN_CSV'])\n",
    "df_test = pd.read_csv(cfg['TEST_CSV'])"
   ]
  },
  {
   "cell_type": "markdown",
   "id": "5721bd5d-695d-4da3-b3f1-5c3a87d37682",
   "metadata": {},
   "source": [
    "## Prepare Initial Dataframe"
   ]
  },
  {
   "cell_type": "code",
   "execution_count": 5,
   "id": "cf30cc9a-32d8-4138-bc51-b87881919ab5",
   "metadata": {},
   "outputs": [],
   "source": [
    "df_train = utils.get_image_path(df_train, \"train\")\n",
    "df_test = utils.get_image_path(df_test, \"test\")"
   ]
  },
  {
   "cell_type": "markdown",
   "id": "17f01c48-dfb1-45f0-8479-bb7628e02768",
   "metadata": {},
   "source": [
    "## Rename Columns"
   ]
  },
  {
   "cell_type": "code",
   "execution_count": 6,
   "id": "9f346b2d-6745-4235-9f9a-7a48afde647e",
   "metadata": {},
   "outputs": [
    {
     "data": {
      "text/html": [
       "<div>\n",
       "<style scoped>\n",
       "    .dataframe tbody tr th:only-of-type {\n",
       "        vertical-align: middle;\n",
       "    }\n",
       "\n",
       "    .dataframe tbody tr th {\n",
       "        vertical-align: top;\n",
       "    }\n",
       "\n",
       "    .dataframe thead th {\n",
       "        text-align: right;\n",
       "    }\n",
       "</style>\n",
       "<table border=\"1\" class=\"dataframe\">\n",
       "  <thead>\n",
       "    <tr style=\"text-align: right;\">\n",
       "      <th></th>\n",
       "      <th>image_id</th>\n",
       "      <th>target</th>\n",
       "      <th>image_path</th>\n",
       "    </tr>\n",
       "  </thead>\n",
       "  <tbody>\n",
       "    <tr>\n",
       "      <th>0</th>\n",
       "      <td>vyctxmodyu</td>\n",
       "      <td>12</td>\n",
       "      <td>input/train/vyctxmodyu.jpeg</td>\n",
       "    </tr>\n",
       "    <tr>\n",
       "      <th>1</th>\n",
       "      <td>kghlqhpshk</td>\n",
       "      <td>14</td>\n",
       "      <td>input/train/kghlqhpshk.jpeg</td>\n",
       "    </tr>\n",
       "    <tr>\n",
       "      <th>2</th>\n",
       "      <td>rfznywdgjo</td>\n",
       "      <td>19</td>\n",
       "      <td>input/train/rfznywdgjo.jpeg</td>\n",
       "    </tr>\n",
       "    <tr>\n",
       "      <th>3</th>\n",
       "      <td>zllfkikwrw</td>\n",
       "      <td>24</td>\n",
       "      <td>input/train/zllfkikwrw.jpeg</td>\n",
       "    </tr>\n",
       "    <tr>\n",
       "      <th>4</th>\n",
       "      <td>qeiqjoqakl</td>\n",
       "      <td>20</td>\n",
       "      <td>input/train/qeiqjoqakl.jpeg</td>\n",
       "    </tr>\n",
       "  </tbody>\n",
       "</table>\n",
       "</div>"
      ],
      "text/plain": [
       "     image_id  target                   image_path\n",
       "0  vyctxmodyu      12  input/train/vyctxmodyu.jpeg\n",
       "1  kghlqhpshk      14  input/train/kghlqhpshk.jpeg\n",
       "2  rfznywdgjo      19  input/train/rfznywdgjo.jpeg\n",
       "3  zllfkikwrw      24  input/train/zllfkikwrw.jpeg\n",
       "4  qeiqjoqakl      20  input/train/qeiqjoqakl.jpeg"
      ]
     },
     "execution_count": 6,
     "metadata": {},
     "output_type": "execute_result"
    }
   ],
   "source": [
    "df_train.rename(\n",
    "    columns = {\n",
    "        'id': 'image_id', \n",
    "        'digit_sum':'target'\n",
    "    }, \n",
    "    \n",
    "    inplace = True\n",
    ")\n",
    "\n",
    "df_train.head()"
   ]
  },
  {
   "cell_type": "code",
   "execution_count": 9,
   "id": "b69c626d",
   "metadata": {},
   "outputs": [
    {
     "data": {
      "text/html": [
       "<div>\n",
       "<style scoped>\n",
       "    .dataframe tbody tr th:only-of-type {\n",
       "        vertical-align: middle;\n",
       "    }\n",
       "\n",
       "    .dataframe tbody tr th {\n",
       "        vertical-align: top;\n",
       "    }\n",
       "\n",
       "    .dataframe thead th {\n",
       "        text-align: right;\n",
       "    }\n",
       "</style>\n",
       "<table border=\"1\" class=\"dataframe\">\n",
       "  <thead>\n",
       "    <tr style=\"text-align: right;\">\n",
       "      <th></th>\n",
       "      <th>image_id</th>\n",
       "      <th>target</th>\n",
       "      <th>image_path</th>\n",
       "    </tr>\n",
       "  </thead>\n",
       "  <tbody>\n",
       "    <tr>\n",
       "      <th>0</th>\n",
       "      <td>olcqzjjmps</td>\n",
       "      <td>0</td>\n",
       "      <td>input/test/olcqzjjmps.jpeg</td>\n",
       "    </tr>\n",
       "    <tr>\n",
       "      <th>1</th>\n",
       "      <td>qonrlmzrze</td>\n",
       "      <td>0</td>\n",
       "      <td>input/test/qonrlmzrze.jpeg</td>\n",
       "    </tr>\n",
       "    <tr>\n",
       "      <th>2</th>\n",
       "      <td>oguhficayk</td>\n",
       "      <td>0</td>\n",
       "      <td>input/test/oguhficayk.jpeg</td>\n",
       "    </tr>\n",
       "    <tr>\n",
       "      <th>3</th>\n",
       "      <td>jxivhbyazh</td>\n",
       "      <td>0</td>\n",
       "      <td>input/test/jxivhbyazh.jpeg</td>\n",
       "    </tr>\n",
       "    <tr>\n",
       "      <th>4</th>\n",
       "      <td>ywwoqmkfjk</td>\n",
       "      <td>0</td>\n",
       "      <td>input/test/ywwoqmkfjk.jpeg</td>\n",
       "    </tr>\n",
       "  </tbody>\n",
       "</table>\n",
       "</div>"
      ],
      "text/plain": [
       "     image_id  target                  image_path\n",
       "0  olcqzjjmps       0  input/test/olcqzjjmps.jpeg\n",
       "1  qonrlmzrze       0  input/test/qonrlmzrze.jpeg\n",
       "2  oguhficayk       0  input/test/oguhficayk.jpeg\n",
       "3  jxivhbyazh       0  input/test/jxivhbyazh.jpeg\n",
       "4  ywwoqmkfjk       0  input/test/ywwoqmkfjk.jpeg"
      ]
     },
     "execution_count": 9,
     "metadata": {},
     "output_type": "execute_result"
    }
   ],
   "source": [
    "df_test.rename(\n",
    "    columns = {\n",
    "        # 'id': 'image_id', \n",
    "        'digit_sum':'target'\n",
    "    }, \n",
    "    \n",
    "    inplace = True\n",
    ")\n",
    "\n",
    "df_test.head()"
   ]
  },
  {
   "cell_type": "code",
   "execution_count": null,
   "id": "1bf2748a",
   "metadata": {},
   "outputs": [],
   "source": []
  },
  {
   "cell_type": "code",
   "execution_count": 7,
   "id": "93e947e8-aa8c-4a87-a10d-3e68be8ba0a1",
   "metadata": {},
   "outputs": [
    {
     "data": {
      "text/html": [
       "<div>\n",
       "<style scoped>\n",
       "    .dataframe tbody tr th:only-of-type {\n",
       "        vertical-align: middle;\n",
       "    }\n",
       "\n",
       "    .dataframe tbody tr th {\n",
       "        vertical-align: top;\n",
       "    }\n",
       "\n",
       "    .dataframe thead th {\n",
       "        text-align: right;\n",
       "    }\n",
       "</style>\n",
       "<table border=\"1\" class=\"dataframe\">\n",
       "  <thead>\n",
       "    <tr style=\"text-align: right;\">\n",
       "      <th></th>\n",
       "      <th>image_id</th>\n",
       "      <th>image_path</th>\n",
       "      <th>target</th>\n",
       "    </tr>\n",
       "  </thead>\n",
       "  <tbody>\n",
       "    <tr>\n",
       "      <th>0</th>\n",
       "      <td>vyctxmodyu</td>\n",
       "      <td>input/train/vyctxmodyu.jpeg</td>\n",
       "      <td>12</td>\n",
       "    </tr>\n",
       "    <tr>\n",
       "      <th>1</th>\n",
       "      <td>kghlqhpshk</td>\n",
       "      <td>input/train/kghlqhpshk.jpeg</td>\n",
       "      <td>14</td>\n",
       "    </tr>\n",
       "    <tr>\n",
       "      <th>2</th>\n",
       "      <td>rfznywdgjo</td>\n",
       "      <td>input/train/rfznywdgjo.jpeg</td>\n",
       "      <td>19</td>\n",
       "    </tr>\n",
       "    <tr>\n",
       "      <th>3</th>\n",
       "      <td>zllfkikwrw</td>\n",
       "      <td>input/train/zllfkikwrw.jpeg</td>\n",
       "      <td>24</td>\n",
       "    </tr>\n",
       "    <tr>\n",
       "      <th>4</th>\n",
       "      <td>qeiqjoqakl</td>\n",
       "      <td>input/train/qeiqjoqakl.jpeg</td>\n",
       "      <td>20</td>\n",
       "    </tr>\n",
       "  </tbody>\n",
       "</table>\n",
       "</div>"
      ],
      "text/plain": [
       "     image_id                   image_path  target\n",
       "0  vyctxmodyu  input/train/vyctxmodyu.jpeg      12\n",
       "1  kghlqhpshk  input/train/kghlqhpshk.jpeg      14\n",
       "2  rfznywdgjo  input/train/rfznywdgjo.jpeg      19\n",
       "3  zllfkikwrw  input/train/zllfkikwrw.jpeg      24\n",
       "4  qeiqjoqakl  input/train/qeiqjoqakl.jpeg      20"
      ]
     },
     "execution_count": 7,
     "metadata": {},
     "output_type": "execute_result"
    }
   ],
   "source": [
    "# Change order of columns\n",
    "df_train = df_train[['image_id', 'image_path', 'target']]\n",
    "\n",
    "df_train.head()"
   ]
  },
  {
   "cell_type": "code",
   "execution_count": 10,
   "id": "e181b39d",
   "metadata": {},
   "outputs": [
    {
     "data": {
      "text/html": [
       "<div>\n",
       "<style scoped>\n",
       "    .dataframe tbody tr th:only-of-type {\n",
       "        vertical-align: middle;\n",
       "    }\n",
       "\n",
       "    .dataframe tbody tr th {\n",
       "        vertical-align: top;\n",
       "    }\n",
       "\n",
       "    .dataframe thead th {\n",
       "        text-align: right;\n",
       "    }\n",
       "</style>\n",
       "<table border=\"1\" class=\"dataframe\">\n",
       "  <thead>\n",
       "    <tr style=\"text-align: right;\">\n",
       "      <th></th>\n",
       "      <th>image_id</th>\n",
       "      <th>image_path</th>\n",
       "      <th>target</th>\n",
       "    </tr>\n",
       "  </thead>\n",
       "  <tbody>\n",
       "    <tr>\n",
       "      <th>0</th>\n",
       "      <td>olcqzjjmps</td>\n",
       "      <td>input/test/olcqzjjmps.jpeg</td>\n",
       "      <td>0</td>\n",
       "    </tr>\n",
       "    <tr>\n",
       "      <th>1</th>\n",
       "      <td>qonrlmzrze</td>\n",
       "      <td>input/test/qonrlmzrze.jpeg</td>\n",
       "      <td>0</td>\n",
       "    </tr>\n",
       "    <tr>\n",
       "      <th>2</th>\n",
       "      <td>oguhficayk</td>\n",
       "      <td>input/test/oguhficayk.jpeg</td>\n",
       "      <td>0</td>\n",
       "    </tr>\n",
       "    <tr>\n",
       "      <th>3</th>\n",
       "      <td>jxivhbyazh</td>\n",
       "      <td>input/test/jxivhbyazh.jpeg</td>\n",
       "      <td>0</td>\n",
       "    </tr>\n",
       "    <tr>\n",
       "      <th>4</th>\n",
       "      <td>ywwoqmkfjk</td>\n",
       "      <td>input/test/ywwoqmkfjk.jpeg</td>\n",
       "      <td>0</td>\n",
       "    </tr>\n",
       "  </tbody>\n",
       "</table>\n",
       "</div>"
      ],
      "text/plain": [
       "     image_id                  image_path  target\n",
       "0  olcqzjjmps  input/test/olcqzjjmps.jpeg       0\n",
       "1  qonrlmzrze  input/test/qonrlmzrze.jpeg       0\n",
       "2  oguhficayk  input/test/oguhficayk.jpeg       0\n",
       "3  jxivhbyazh  input/test/jxivhbyazh.jpeg       0\n",
       "4  ywwoqmkfjk  input/test/ywwoqmkfjk.jpeg       0"
      ]
     },
     "execution_count": 10,
     "metadata": {},
     "output_type": "execute_result"
    }
   ],
   "source": [
    "# Change order of columns\n",
    "df_test = df_test[['image_id', 'image_path', 'target']]\n",
    "\n",
    "df_test.head()"
   ]
  },
  {
   "cell_type": "markdown",
   "id": "c5bf720f-357d-4445-88b1-99019228b041",
   "metadata": {},
   "source": [
    "## StratifiedKFold"
   ]
  },
  {
   "cell_type": "code",
   "execution_count": 11,
   "id": "812bfdc6-6a23-4edd-82d2-9b2fa99f9b2d",
   "metadata": {},
   "outputs": [
    {
     "data": {
      "text/html": [
       "<div>\n",
       "<style scoped>\n",
       "    .dataframe tbody tr th:only-of-type {\n",
       "        vertical-align: middle;\n",
       "    }\n",
       "\n",
       "    .dataframe tbody tr th {\n",
       "        vertical-align: top;\n",
       "    }\n",
       "\n",
       "    .dataframe thead th {\n",
       "        text-align: right;\n",
       "    }\n",
       "</style>\n",
       "<table border=\"1\" class=\"dataframe\">\n",
       "  <thead>\n",
       "    <tr style=\"text-align: right;\">\n",
       "      <th></th>\n",
       "      <th>image_id</th>\n",
       "      <th>image_path</th>\n",
       "      <th>target</th>\n",
       "      <th>fold</th>\n",
       "    </tr>\n",
       "  </thead>\n",
       "  <tbody>\n",
       "    <tr>\n",
       "      <th>0</th>\n",
       "      <td>vyctxmodyu</td>\n",
       "      <td>input/train/vyctxmodyu.jpeg</td>\n",
       "      <td>12</td>\n",
       "      <td>2.0</td>\n",
       "    </tr>\n",
       "    <tr>\n",
       "      <th>1</th>\n",
       "      <td>kghlqhpshk</td>\n",
       "      <td>input/train/kghlqhpshk.jpeg</td>\n",
       "      <td>14</td>\n",
       "      <td>0.0</td>\n",
       "    </tr>\n",
       "    <tr>\n",
       "      <th>2</th>\n",
       "      <td>rfznywdgjo</td>\n",
       "      <td>input/train/rfznywdgjo.jpeg</td>\n",
       "      <td>19</td>\n",
       "      <td>3.0</td>\n",
       "    </tr>\n",
       "    <tr>\n",
       "      <th>3</th>\n",
       "      <td>zllfkikwrw</td>\n",
       "      <td>input/train/zllfkikwrw.jpeg</td>\n",
       "      <td>24</td>\n",
       "      <td>2.0</td>\n",
       "    </tr>\n",
       "    <tr>\n",
       "      <th>4</th>\n",
       "      <td>qeiqjoqakl</td>\n",
       "      <td>input/train/qeiqjoqakl.jpeg</td>\n",
       "      <td>20</td>\n",
       "      <td>0.0</td>\n",
       "    </tr>\n",
       "  </tbody>\n",
       "</table>\n",
       "</div>"
      ],
      "text/plain": [
       "     image_id                   image_path  target  fold\n",
       "0  vyctxmodyu  input/train/vyctxmodyu.jpeg      12   2.0\n",
       "1  kghlqhpshk  input/train/kghlqhpshk.jpeg      14   0.0\n",
       "2  rfznywdgjo  input/train/rfznywdgjo.jpeg      19   3.0\n",
       "3  zllfkikwrw  input/train/zllfkikwrw.jpeg      24   2.0\n",
       "4  qeiqjoqakl  input/train/qeiqjoqakl.jpeg      20   0.0"
      ]
     },
     "execution_count": 11,
     "metadata": {},
     "output_type": "execute_result"
    }
   ],
   "source": [
    "df_train = utils.get_skfold(df_train)\n",
    "\n",
    "df_train.head()"
   ]
  },
  {
   "cell_type": "markdown",
   "id": "8383b097-c1fd-4fb7-b626-293cf34e5de8",
   "metadata": {},
   "source": [
    "## Save Dataset"
   ]
  },
  {
   "cell_type": "code",
   "execution_count": 12,
   "id": "25b9fe9e-0851-4452-ba1b-397a97c03a9d",
   "metadata": {},
   "outputs": [],
   "source": [
    "df_train.to_csv(\"input/train_folds.csv\", index=False)"
   ]
  },
  {
   "cell_type": "code",
   "execution_count": 13,
   "id": "024b22f9-c3ce-4568-b102-a1324b0a5d2c",
   "metadata": {},
   "outputs": [],
   "source": [
    "df_test.to_csv(\"input/test.csv\", index=False)"
   ]
  }
 ],
 "metadata": {
  "kernelspec": {
   "display_name": "Python 3 (ipykernel)",
   "language": "python",
   "name": "python3"
  },
  "language_info": {
   "codemirror_mode": {
    "name": "ipython",
    "version": 3
   },
   "file_extension": ".py",
   "mimetype": "text/x-python",
   "name": "python",
   "nbconvert_exporter": "python",
   "pygments_lexer": "ipython3",
   "version": "3.8.12"
  }
 },
 "nbformat": 4,
 "nbformat_minor": 5
}
