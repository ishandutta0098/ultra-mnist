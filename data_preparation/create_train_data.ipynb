{
 "cells": [
  {
   "cell_type": "markdown",
   "id": "dc7c1650-5a9e-4c45-9141-013f0074ac86",
   "metadata": {},
   "source": [
    "# Obtain the Image Paths and create data folds"
   ]
  },
  {
   "cell_type": "markdown",
   "id": "6684fcaf-89f3-4fb0-81de-639533a8d884",
   "metadata": {},
   "source": [
    "## Preliminaries"
   ]
  },
  {
   "cell_type": "code",
   "execution_count": 1,
   "id": "ecfcb649-8c00-4511-967b-2fdd4b8536a8",
   "metadata": {},
   "outputs": [
    {
     "name": "stdout",
     "output_type": "stream",
     "text": [
      "/home/ultra-mnist\n"
     ]
    }
   ],
   "source": [
    "%cd .."
   ]
  },
  {
   "cell_type": "code",
   "execution_count": 2,
   "id": "83de328b-f376-4796-aaad-f316134bdea5",
   "metadata": {},
   "outputs": [],
   "source": [
    "import pandas as pd \n",
    "import numpy as np\n",
    "\n",
    "import utilities.utils as utils"
   ]
  },
  {
   "cell_type": "code",
   "execution_count": 3,
   "id": "def44168-af61-4de6-9f6e-a9bdb999c3b7",
   "metadata": {},
   "outputs": [],
   "source": [
    "cfg = utils.load_config(\"project_config.yaml\")"
   ]
  },
  {
   "cell_type": "markdown",
   "id": "91ccceb4-81a9-4516-816d-4aa427981cf7",
   "metadata": {},
   "source": [
    "## Load data"
   ]
  },
  {
   "cell_type": "code",
   "execution_count": 4,
   "id": "e9f998de-c2a9-4fbb-ad9a-31253684a2bb",
   "metadata": {},
   "outputs": [],
   "source": [
    "df_train = pd.read_csv(cfg['TRAIN_CSV'])\n",
    "df_test = pd.read_csv(cfg['TEST_CSV'])"
   ]
  },
  {
   "cell_type": "markdown",
   "id": "5721bd5d-695d-4da3-b3f1-5c3a87d37682",
   "metadata": {},
   "source": [
    "## Prepare Initial Dataframe"
   ]
  },
  {
   "cell_type": "code",
   "execution_count": 5,
   "id": "cf30cc9a-32d8-4138-bc51-b87881919ab5",
   "metadata": {},
   "outputs": [],
   "source": [
    "df_train = utils.get_image_path(df_train, \"train\")\n",
    "df_test = utils.get_image_path(df_test, \"test\")"
   ]
  },
  {
   "cell_type": "markdown",
   "id": "17f01c48-dfb1-45f0-8479-bb7628e02768",
   "metadata": {},
   "source": [
    "## Rename Columns"
   ]
  },
  {
   "cell_type": "code",
   "execution_count": 8,
   "id": "9f346b2d-6745-4235-9f9a-7a48afde647e",
   "metadata": {},
   "outputs": [
    {
     "data": {
      "text/html": [
       "<div>\n",
       "<style scoped>\n",
       "    .dataframe tbody tr th:only-of-type {\n",
       "        vertical-align: middle;\n",
       "    }\n",
       "\n",
       "    .dataframe tbody tr th {\n",
       "        vertical-align: top;\n",
       "    }\n",
       "\n",
       "    .dataframe thead th {\n",
       "        text-align: right;\n",
       "    }\n",
       "</style>\n",
       "<table border=\"1\" class=\"dataframe\">\n",
       "  <thead>\n",
       "    <tr style=\"text-align: right;\">\n",
       "      <th></th>\n",
       "      <th>image_id</th>\n",
       "      <th>target</th>\n",
       "      <th>image_path</th>\n",
       "    </tr>\n",
       "  </thead>\n",
       "  <tbody>\n",
       "    <tr>\n",
       "      <th>0</th>\n",
       "      <td>jmwdcbkdqn</td>\n",
       "      <td>11</td>\n",
       "      <td>input/train/jmwdcbkdqn.jpeg</td>\n",
       "    </tr>\n",
       "    <tr>\n",
       "      <th>1</th>\n",
       "      <td>azjintiubk</td>\n",
       "      <td>20</td>\n",
       "      <td>input/train/azjintiubk.jpeg</td>\n",
       "    </tr>\n",
       "    <tr>\n",
       "      <th>2</th>\n",
       "      <td>iagdhkonwb</td>\n",
       "      <td>2</td>\n",
       "      <td>input/train/iagdhkonwb.jpeg</td>\n",
       "    </tr>\n",
       "    <tr>\n",
       "      <th>3</th>\n",
       "      <td>kcxsziarmr</td>\n",
       "      <td>4</td>\n",
       "      <td>input/train/kcxsziarmr.jpeg</td>\n",
       "    </tr>\n",
       "    <tr>\n",
       "      <th>4</th>\n",
       "      <td>fbjxcxgdxv</td>\n",
       "      <td>25</td>\n",
       "      <td>input/train/fbjxcxgdxv.jpeg</td>\n",
       "    </tr>\n",
       "  </tbody>\n",
       "</table>\n",
       "</div>"
      ],
      "text/plain": [
       "     image_id  target                   image_path\n",
       "0  jmwdcbkdqn      11  input/train/jmwdcbkdqn.jpeg\n",
       "1  azjintiubk      20  input/train/azjintiubk.jpeg\n",
       "2  iagdhkonwb       2  input/train/iagdhkonwb.jpeg\n",
       "3  kcxsziarmr       4  input/train/kcxsziarmr.jpeg\n",
       "4  fbjxcxgdxv      25  input/train/fbjxcxgdxv.jpeg"
      ]
     },
     "execution_count": 8,
     "metadata": {},
     "output_type": "execute_result"
    }
   ],
   "source": [
    "df_train.rename(\n",
    "    columns = {\n",
    "        'id': 'image_id', \n",
    "        'digit_sum':'target'\n",
    "    }, \n",
    "    \n",
    "    inplace = True\n",
    ")\n",
    "\n",
    "df_train.head()"
   ]
  },
  {
   "cell_type": "code",
   "execution_count": 9,
   "id": "93e947e8-aa8c-4a87-a10d-3e68be8ba0a1",
   "metadata": {},
   "outputs": [
    {
     "data": {
      "text/html": [
       "<div>\n",
       "<style scoped>\n",
       "    .dataframe tbody tr th:only-of-type {\n",
       "        vertical-align: middle;\n",
       "    }\n",
       "\n",
       "    .dataframe tbody tr th {\n",
       "        vertical-align: top;\n",
       "    }\n",
       "\n",
       "    .dataframe thead th {\n",
       "        text-align: right;\n",
       "    }\n",
       "</style>\n",
       "<table border=\"1\" class=\"dataframe\">\n",
       "  <thead>\n",
       "    <tr style=\"text-align: right;\">\n",
       "      <th></th>\n",
       "      <th>image_id</th>\n",
       "      <th>image_path</th>\n",
       "      <th>target</th>\n",
       "    </tr>\n",
       "  </thead>\n",
       "  <tbody>\n",
       "    <tr>\n",
       "      <th>0</th>\n",
       "      <td>jmwdcbkdqn</td>\n",
       "      <td>input/train/jmwdcbkdqn.jpeg</td>\n",
       "      <td>11</td>\n",
       "    </tr>\n",
       "    <tr>\n",
       "      <th>1</th>\n",
       "      <td>azjintiubk</td>\n",
       "      <td>input/train/azjintiubk.jpeg</td>\n",
       "      <td>20</td>\n",
       "    </tr>\n",
       "    <tr>\n",
       "      <th>2</th>\n",
       "      <td>iagdhkonwb</td>\n",
       "      <td>input/train/iagdhkonwb.jpeg</td>\n",
       "      <td>2</td>\n",
       "    </tr>\n",
       "    <tr>\n",
       "      <th>3</th>\n",
       "      <td>kcxsziarmr</td>\n",
       "      <td>input/train/kcxsziarmr.jpeg</td>\n",
       "      <td>4</td>\n",
       "    </tr>\n",
       "    <tr>\n",
       "      <th>4</th>\n",
       "      <td>fbjxcxgdxv</td>\n",
       "      <td>input/train/fbjxcxgdxv.jpeg</td>\n",
       "      <td>25</td>\n",
       "    </tr>\n",
       "  </tbody>\n",
       "</table>\n",
       "</div>"
      ],
      "text/plain": [
       "     image_id                   image_path  target\n",
       "0  jmwdcbkdqn  input/train/jmwdcbkdqn.jpeg      11\n",
       "1  azjintiubk  input/train/azjintiubk.jpeg      20\n",
       "2  iagdhkonwb  input/train/iagdhkonwb.jpeg       2\n",
       "3  kcxsziarmr  input/train/kcxsziarmr.jpeg       4\n",
       "4  fbjxcxgdxv  input/train/fbjxcxgdxv.jpeg      25"
      ]
     },
     "execution_count": 9,
     "metadata": {},
     "output_type": "execute_result"
    }
   ],
   "source": [
    "# Change order of columns\n",
    "df_train = df_train[['image_id', 'image_path', 'target']]\n",
    "\n",
    "df_train.head()"
   ]
  },
  {
   "cell_type": "markdown",
   "id": "c5bf720f-357d-4445-88b1-99019228b041",
   "metadata": {},
   "source": [
    "## StratifiedKFold"
   ]
  },
  {
   "cell_type": "code",
   "execution_count": 10,
   "id": "812bfdc6-6a23-4edd-82d2-9b2fa99f9b2d",
   "metadata": {},
   "outputs": [
    {
     "data": {
      "text/html": [
       "<div>\n",
       "<style scoped>\n",
       "    .dataframe tbody tr th:only-of-type {\n",
       "        vertical-align: middle;\n",
       "    }\n",
       "\n",
       "    .dataframe tbody tr th {\n",
       "        vertical-align: top;\n",
       "    }\n",
       "\n",
       "    .dataframe thead th {\n",
       "        text-align: right;\n",
       "    }\n",
       "</style>\n",
       "<table border=\"1\" class=\"dataframe\">\n",
       "  <thead>\n",
       "    <tr style=\"text-align: right;\">\n",
       "      <th></th>\n",
       "      <th>image_id</th>\n",
       "      <th>image_path</th>\n",
       "      <th>target</th>\n",
       "      <th>fold</th>\n",
       "    </tr>\n",
       "  </thead>\n",
       "  <tbody>\n",
       "    <tr>\n",
       "      <th>0</th>\n",
       "      <td>jmwdcbkdqn</td>\n",
       "      <td>input/train/jmwdcbkdqn.jpeg</td>\n",
       "      <td>11</td>\n",
       "      <td>2.0</td>\n",
       "    </tr>\n",
       "    <tr>\n",
       "      <th>1</th>\n",
       "      <td>azjintiubk</td>\n",
       "      <td>input/train/azjintiubk.jpeg</td>\n",
       "      <td>20</td>\n",
       "      <td>0.0</td>\n",
       "    </tr>\n",
       "    <tr>\n",
       "      <th>2</th>\n",
       "      <td>iagdhkonwb</td>\n",
       "      <td>input/train/iagdhkonwb.jpeg</td>\n",
       "      <td>2</td>\n",
       "      <td>3.0</td>\n",
       "    </tr>\n",
       "    <tr>\n",
       "      <th>3</th>\n",
       "      <td>kcxsziarmr</td>\n",
       "      <td>input/train/kcxsziarmr.jpeg</td>\n",
       "      <td>4</td>\n",
       "      <td>2.0</td>\n",
       "    </tr>\n",
       "    <tr>\n",
       "      <th>4</th>\n",
       "      <td>fbjxcxgdxv</td>\n",
       "      <td>input/train/fbjxcxgdxv.jpeg</td>\n",
       "      <td>25</td>\n",
       "      <td>0.0</td>\n",
       "    </tr>\n",
       "  </tbody>\n",
       "</table>\n",
       "</div>"
      ],
      "text/plain": [
       "     image_id                   image_path  target  fold\n",
       "0  jmwdcbkdqn  input/train/jmwdcbkdqn.jpeg      11   2.0\n",
       "1  azjintiubk  input/train/azjintiubk.jpeg      20   0.0\n",
       "2  iagdhkonwb  input/train/iagdhkonwb.jpeg       2   3.0\n",
       "3  kcxsziarmr  input/train/kcxsziarmr.jpeg       4   2.0\n",
       "4  fbjxcxgdxv  input/train/fbjxcxgdxv.jpeg      25   0.0"
      ]
     },
     "execution_count": 10,
     "metadata": {},
     "output_type": "execute_result"
    }
   ],
   "source": [
    "df_train = utils.get_skfold(df_train)\n",
    "\n",
    "df_train.head()"
   ]
  },
  {
   "cell_type": "markdown",
   "id": "8383b097-c1fd-4fb7-b626-293cf34e5de8",
   "metadata": {},
   "source": [
    "## Save Dataset"
   ]
  },
  {
   "cell_type": "code",
   "execution_count": 11,
   "id": "25b9fe9e-0851-4452-ba1b-397a97c03a9d",
   "metadata": {},
   "outputs": [],
   "source": [
    "df_train.to_csv(\"input/train_folds.csv\", index=False)"
   ]
  },
  {
   "cell_type": "code",
   "execution_count": 12,
   "id": "024b22f9-c3ce-4568-b102-a1324b0a5d2c",
   "metadata": {},
   "outputs": [
    {
     "data": {
      "text/plain": [
       "(28000, 2)"
      ]
     },
     "execution_count": 12,
     "metadata": {},
     "output_type": "execute_result"
    }
   ],
   "source": [
    "df_test.to_csv(\"\")"
   ]
  },
  {
   "cell_type": "code",
   "execution_count": null,
   "id": "06d29199-e2b3-4bc8-87ee-e4796c05ed38",
   "metadata": {},
   "outputs": [],
   "source": []
  }
 ],
 "metadata": {
  "kernelspec": {
   "display_name": "Python 3 (ipykernel)",
   "language": "python",
   "name": "python3"
  },
  "language_info": {
   "codemirror_mode": {
    "name": "ipython",
    "version": 3
   },
   "file_extension": ".py",
   "mimetype": "text/x-python",
   "name": "python",
   "nbconvert_exporter": "python",
   "pygments_lexer": "ipython3",
   "version": "3.8.10"
  }
 },
 "nbformat": 4,
 "nbformat_minor": 5
}
